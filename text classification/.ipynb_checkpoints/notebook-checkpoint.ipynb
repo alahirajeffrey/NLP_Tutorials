{
 "cells": [
  {
   "cell_type": "markdown",
   "metadata": {},
   "source": [
    "## Womens Ecommerce Clothing Reviews\n",
    "This dataset was gotten from https://www.kaggle.com/nicapotato/womens-ecommerce-clothing-reviews and is a Women’s Clothing E-Commerce dataset revolving around the reviews written by customers.  Because this is real commercial data, it has been anonymized, and references to the company in the review text and body have been replaced with “retailer”.\n",
    "\n",
    "This dataset includes 23486 rows and 10 feature variables. Each row corresponds to a customer review, and includes the variables:\n",
    "\n",
    "- **Clothing ID:** Integer Categorical variable that refers to the specific piece being reviewed.\n",
    "- **Age:** Positive Integer variable of the reviewers age.\n",
    "- **Title:** String variable for the title of the review.\n",
    "- **Review Text:** String variable for the review body.\n",
    "- **Rating:** Positive Ordinal Integer variable for the product score granted by the customer from 1 Worst, to 5 Best.\n",
    "- **Recommended IND:** Binary variable stating where the customer recommends the product where 1 is recommended, 0 is not recommended.\n",
    "- **Positive Feedback Count:** Positive Integer documenting the number of other customers who found this review positive.\n",
    "- **Division Name:** Categorical name of the product high level division.\n",
    "- **Department Name:** Categorical name of the product department name.\n",
    "- **Class Name:** Categorical name of the product class name."
   ]
  },
  {
   "cell_type": "markdown",
   "metadata": {},
   "source": [
    "**Data Exploration**"
   ]
  },
  {
   "cell_type": "code",
   "execution_count": 35,
   "metadata": {},
   "outputs": [],
   "source": [
    "import pandas as pd\n",
    "pd.set_option('display.max_colwidth', 100)"
   ]
  },
  {
   "cell_type": "code",
   "execution_count": 74,
   "metadata": {},
   "outputs": [
    {
     "data": {
      "text/html": [
       "<div>\n",
       "<style scoped>\n",
       "    .dataframe tbody tr th:only-of-type {\n",
       "        vertical-align: middle;\n",
       "    }\n",
       "\n",
       "    .dataframe tbody tr th {\n",
       "        vertical-align: top;\n",
       "    }\n",
       "\n",
       "    .dataframe thead th {\n",
       "        text-align: right;\n",
       "    }\n",
       "</style>\n",
       "<table border=\"1\" class=\"dataframe\">\n",
       "  <thead>\n",
       "    <tr style=\"text-align: right;\">\n",
       "      <th></th>\n",
       "      <th>Unnamed: 0</th>\n",
       "      <th>Clothing ID</th>\n",
       "      <th>Age</th>\n",
       "      <th>Title</th>\n",
       "      <th>Review Text</th>\n",
       "      <th>Rating</th>\n",
       "      <th>Recommended IND</th>\n",
       "      <th>Positive Feedback Count</th>\n",
       "      <th>Division Name</th>\n",
       "      <th>Department Name</th>\n",
       "      <th>Class Name</th>\n",
       "    </tr>\n",
       "  </thead>\n",
       "  <tbody>\n",
       "    <tr>\n",
       "      <th>0</th>\n",
       "      <td>0</td>\n",
       "      <td>767</td>\n",
       "      <td>33</td>\n",
       "      <td>NaN</td>\n",
       "      <td>Absolutely wonderful - silky and sexy and comfortable</td>\n",
       "      <td>4</td>\n",
       "      <td>1</td>\n",
       "      <td>0</td>\n",
       "      <td>Initmates</td>\n",
       "      <td>Intimate</td>\n",
       "      <td>Intimates</td>\n",
       "    </tr>\n",
       "    <tr>\n",
       "      <th>1</th>\n",
       "      <td>1</td>\n",
       "      <td>1080</td>\n",
       "      <td>34</td>\n",
       "      <td>NaN</td>\n",
       "      <td>Love this dress!  it's sooo pretty.  i happened to find it in a store, and i'm glad i did bc i n...</td>\n",
       "      <td>5</td>\n",
       "      <td>1</td>\n",
       "      <td>4</td>\n",
       "      <td>General</td>\n",
       "      <td>Dresses</td>\n",
       "      <td>Dresses</td>\n",
       "    </tr>\n",
       "    <tr>\n",
       "      <th>2</th>\n",
       "      <td>2</td>\n",
       "      <td>1077</td>\n",
       "      <td>60</td>\n",
       "      <td>Some major design flaws</td>\n",
       "      <td>I had such high hopes for this dress and really wanted it to work for me. i initially ordered th...</td>\n",
       "      <td>3</td>\n",
       "      <td>0</td>\n",
       "      <td>0</td>\n",
       "      <td>General</td>\n",
       "      <td>Dresses</td>\n",
       "      <td>Dresses</td>\n",
       "    </tr>\n",
       "    <tr>\n",
       "      <th>3</th>\n",
       "      <td>3</td>\n",
       "      <td>1049</td>\n",
       "      <td>50</td>\n",
       "      <td>My favorite buy!</td>\n",
       "      <td>I love, love, love this jumpsuit. it's fun, flirty, and fabulous! every time i wear it, i get no...</td>\n",
       "      <td>5</td>\n",
       "      <td>1</td>\n",
       "      <td>0</td>\n",
       "      <td>General Petite</td>\n",
       "      <td>Bottoms</td>\n",
       "      <td>Pants</td>\n",
       "    </tr>\n",
       "    <tr>\n",
       "      <th>4</th>\n",
       "      <td>4</td>\n",
       "      <td>847</td>\n",
       "      <td>47</td>\n",
       "      <td>Flattering shirt</td>\n",
       "      <td>This shirt is very flattering to all due to the adjustable front tie. it is the perfect length t...</td>\n",
       "      <td>5</td>\n",
       "      <td>1</td>\n",
       "      <td>6</td>\n",
       "      <td>General</td>\n",
       "      <td>Tops</td>\n",
       "      <td>Blouses</td>\n",
       "    </tr>\n",
       "  </tbody>\n",
       "</table>\n",
       "</div>"
      ],
      "text/plain": [
       "   Unnamed: 0  Clothing ID  Age                    Title  \\\n",
       "0           0          767   33                      NaN   \n",
       "1           1         1080   34                      NaN   \n",
       "2           2         1077   60  Some major design flaws   \n",
       "3           3         1049   50         My favorite buy!   \n",
       "4           4          847   47         Flattering shirt   \n",
       "\n",
       "                                                                                           Review Text  \\\n",
       "0                                                Absolutely wonderful - silky and sexy and comfortable   \n",
       "1  Love this dress!  it's sooo pretty.  i happened to find it in a store, and i'm glad i did bc i n...   \n",
       "2  I had such high hopes for this dress and really wanted it to work for me. i initially ordered th...   \n",
       "3  I love, love, love this jumpsuit. it's fun, flirty, and fabulous! every time i wear it, i get no...   \n",
       "4  This shirt is very flattering to all due to the adjustable front tie. it is the perfect length t...   \n",
       "\n",
       "   Rating  Recommended IND  Positive Feedback Count   Division Name  \\\n",
       "0       4                1                        0       Initmates   \n",
       "1       5                1                        4         General   \n",
       "2       3                0                        0         General   \n",
       "3       5                1                        0  General Petite   \n",
       "4       5                1                        6         General   \n",
       "\n",
       "  Department Name Class Name  \n",
       "0        Intimate  Intimates  \n",
       "1         Dresses    Dresses  \n",
       "2         Dresses    Dresses  \n",
       "3         Bottoms      Pants  \n",
       "4            Tops    Blouses  "
      ]
     },
     "execution_count": 74,
     "metadata": {},
     "output_type": "execute_result"
    }
   ],
   "source": [
    "data = pd.read_csv('Womens Clothing E-Commerce Reviews.csv')\n",
    "data.head()"
   ]
  },
  {
   "cell_type": "code",
   "execution_count": 75,
   "metadata": {},
   "outputs": [
    {
     "data": {
      "text/plain": [
       "Dresses           6319\n",
       "Knits             4843\n",
       "Blouses           3097\n",
       "Sweaters          1428\n",
       "Pants             1388\n",
       "Jeans             1147\n",
       "Fine gauge        1100\n",
       "Skirts             945\n",
       "Jackets            704\n",
       "Lounge             691\n",
       "Swim               350\n",
       "Outerwear          328\n",
       "Shorts             317\n",
       "Sleep              228\n",
       "Legwear            165\n",
       "Intimates          154\n",
       "Layering           146\n",
       "Trend              119\n",
       "Casual bottoms       2\n",
       "Chemises             1\n",
       "Name: Class Name, dtype: int64"
      ]
     },
     "execution_count": 75,
     "metadata": {},
     "output_type": "execute_result"
    }
   ],
   "source": [
    "#drop columns and check class distribution of target class\n",
    "data.drop(labels=['Unnamed: 0','Clothing ID'], inplace = True, axis = 1)\n",
    "data['Class Name'].value_counts()"
   ]
  },
  {
   "cell_type": "code",
   "execution_count": 76,
   "metadata": {},
   "outputs": [
    {
     "name": "stdout",
     "output_type": "stream",
     "text": [
      "Age                           0\n",
      "Title                      3810\n",
      "Review Text                 845\n",
      "Rating                        0\n",
      "Recommended IND               0\n",
      "Positive Feedback Count       0\n",
      "Division Name                14\n",
      "Department Name              14\n",
      "Class Name                   14\n",
      "dtype: int64\n",
      "\n",
      "Null values dropped\n",
      "\n",
      "Age                        0\n",
      "Title                      0\n",
      "Review Text                0\n",
      "Rating                     0\n",
      "Recommended IND            0\n",
      "Positive Feedback Count    0\n",
      "Division Name              0\n",
      "Department Name            0\n",
      "Class Name                 0\n",
      "dtype: int64\n"
     ]
    }
   ],
   "source": [
    "##remove null values\n",
    "print(data.isnull().sum())\n",
    "data.dropna(inplace = True)\n",
    "print('\\nNull values dropped\\n')\n",
    "print(data.isnull().sum())"
   ]
  },
  {
   "cell_type": "markdown",
   "metadata": {},
   "source": [
    "## Text Cleaning\n",
    "\n",
    "**Remove Punctuation**"
   ]
  },
  {
   "cell_type": "code",
   "execution_count": 77,
   "metadata": {},
   "outputs": [],
   "source": [
    "import string"
   ]
  },
  {
   "cell_type": "code",
   "execution_count": 78,
   "metadata": {},
   "outputs": [],
   "source": [
    "def remove_puncts(text):\n",
    "    \"\"\"Function to remove punctuations from review text using list comprehension\"\"\"\n",
    "    text_nopunct = ''.join([char for char in text if char not in string.punctuation ])\n",
    "    return text_nopunct"
   ]
  },
  {
   "cell_type": "code",
   "execution_count": 79,
   "metadata": {},
   "outputs": [
    {
     "data": {
      "text/plain": [
       "2    I had such high hopes for this dress and really wanted it to work for me i initially ordered the...\n",
       "3    I love love love this jumpsuit its fun flirty and fabulous every time i wear it i get nothing bu...\n",
       "4    This shirt is very flattering to all due to the adjustable front tie it is the perfect length to...\n",
       "5    I love tracy reese dresses but this one is not for the very petite i am just under 5 feet tall a...\n",
       "6    I aded this in my basket at hte last mintue to see what it would look like in person store pick ...\n",
       "Name: cleaned_text, dtype: object"
      ]
     },
     "execution_count": 79,
     "metadata": {},
     "output_type": "execute_result"
    }
   ],
   "source": [
    "##apply remove_puncts function to text data\n",
    "data['cleaned_text'] = data['Review Text'].apply(remove_puncts)\n",
    "data['cleaned_text'].head()"
   ]
  },
  {
   "cell_type": "markdown",
   "metadata": {},
   "source": [
    "**Tokenization**"
   ]
  },
  {
   "cell_type": "code",
   "execution_count": 80,
   "metadata": {},
   "outputs": [],
   "source": [
    "import re"
   ]
  },
  {
   "cell_type": "code",
   "execution_count": 81,
   "metadata": {},
   "outputs": [],
   "source": [
    "def tokenize(text):\n",
    "    \"\"\"Tokenize text using regular expression\"\"\"\n",
    "    tokens = re.split('\\W', text)\n",
    "    return tokens"
   ]
  },
  {
   "cell_type": "code",
   "execution_count": 82,
   "metadata": {},
   "outputs": [
    {
     "data": {
      "text/plain": [
       "2    [I, had, such, high, hopes, for, this, dress, and, really, wanted, it, to, work, for, me, i, ini...\n",
       "3    [I, love, love, love, this, jumpsuit, its, fun, flirty, and, fabulous, every, time, i, wear, it,...\n",
       "4    [This, shirt, is, very, flattering, to, all, due, to, the, adjustable, front, tie, it, is, the, ...\n",
       "5    [I, love, tracy, reese, dresses, but, this, one, is, not, for, the, very, petite, i, am, just, u...\n",
       "6    [I, aded, this, in, my, basket, at, hte, last, mintue, to, see, what, it, would, look, like, in,...\n",
       "Name: cleaned_text, dtype: object"
      ]
     },
     "execution_count": 82,
     "metadata": {},
     "output_type": "execute_result"
    }
   ],
   "source": [
    "data['cleaned_text'] = data['cleaned_text'].apply(tokenize)\n",
    "data['cleaned_text'].head()"
   ]
  },
  {
   "cell_type": "markdown",
   "metadata": {},
   "source": [
    "**Remove Stopwords**"
   ]
  },
  {
   "cell_type": "code",
   "execution_count": 83,
   "metadata": {},
   "outputs": [],
   "source": [
    "import nltk\n",
    "\n",
    "stopwords = nltk.corpus.stopwords.words('english')"
   ]
  },
  {
   "cell_type": "code",
   "execution_count": 84,
   "metadata": {},
   "outputs": [],
   "source": [
    "def remove_stopwords(text):\n",
    "    \"\"\"Remove stopwords from data\"\"\"\n",
    "    cleaned_text = [word for word in text if word not in stopwords]\n",
    "    return cleaned_text"
   ]
  },
  {
   "cell_type": "code",
   "execution_count": 85,
   "metadata": {},
   "outputs": [
    {
     "data": {
      "text/plain": [
       "2    [I, high, hopes, dress, really, wanted, work, initially, ordered, petite, small, usual, size, fo...\n",
       "3    [I, love, love, love, jumpsuit, fun, flirty, fabulous, every, time, wear, get, nothing, great, c...\n",
       "4    [This, shirt, flattering, due, adjustable, front, tie, perfect, length, wear, leggings, sleevele...\n",
       "5    [I, love, tracy, reese, dresses, one, petite, 5, feet, tall, usually, wear, 0p, brand, dress, pr...\n",
       "6    [I, aded, basket, hte, last, mintue, see, would, look, like, person, store, pick, went, teh, dar...\n",
       "Name: cleaned_text, dtype: object"
      ]
     },
     "execution_count": 85,
     "metadata": {},
     "output_type": "execute_result"
    }
   ],
   "source": [
    "data['cleaned_text'] = data['cleaned_text'].apply(remove_stopwords)\n",
    "data['cleaned_text'].head()"
   ]
  },
  {
   "cell_type": "markdown",
   "metadata": {},
   "source": [
    "**Stemming**"
   ]
  },
  {
   "cell_type": "code",
   "execution_count": 86,
   "metadata": {},
   "outputs": [],
   "source": [
    "#instantiate stemmer\n",
    "wn = nltk.WordNetLemmatizer()"
   ]
  },
  {
   "cell_type": "code",
   "execution_count": 87,
   "metadata": {},
   "outputs": [],
   "source": [
    "def stemming(text):\n",
    "    \"\"\"Stemm text in the data\"\"\"\n",
    "    stemmed_text = [wn.lemmatize(word) for word in text]\n",
    "    return stemmed_text"
   ]
  },
  {
   "cell_type": "code",
   "execution_count": 88,
   "metadata": {},
   "outputs": [
    {
     "data": {
      "text/plain": [
       "2    [I, high, hope, dress, really, wanted, work, initially, ordered, petite, small, usual, size, fou...\n",
       "3    [I, love, love, love, jumpsuit, fun, flirty, fabulous, every, time, wear, get, nothing, great, c...\n",
       "4    [This, shirt, flattering, due, adjustable, front, tie, perfect, length, wear, legging, sleeveles...\n",
       "5    [I, love, tracy, reese, dress, one, petite, 5, foot, tall, usually, wear, 0p, brand, dress, pret...\n",
       "6    [I, aded, basket, hte, last, mintue, see, would, look, like, person, store, pick, went, teh, dar...\n",
       "Name: cleaned_text, dtype: object"
      ]
     },
     "execution_count": 88,
     "metadata": {},
     "output_type": "execute_result"
    }
   ],
   "source": [
    "data['cleaned_text'] = data['cleaned_text'].apply(stemming)\n",
    "data['cleaned_text'].head()"
   ]
  },
  {
   "cell_type": "code",
   "execution_count": null,
   "metadata": {},
   "outputs": [],
   "source": []
  }
 ],
 "metadata": {
  "kernelspec": {
   "display_name": "Python 3",
   "language": "python",
   "name": "python3"
  },
  "language_info": {
   "codemirror_mode": {
    "name": "ipython",
    "version": 3
   },
   "file_extension": ".py",
   "mimetype": "text/x-python",
   "name": "python",
   "nbconvert_exporter": "python",
   "pygments_lexer": "ipython3",
   "version": "3.8.3"
  }
 },
 "nbformat": 4,
 "nbformat_minor": 4
}
